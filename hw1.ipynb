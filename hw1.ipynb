{
  "nbformat": 4,
  "nbformat_minor": 0,
  "metadata": {
    "colab": {
      "name": "hw1.ipynb",
      "provenance": [],
      "authorship_tag": "ABX9TyMBKnzrgOL+0+/hpcOREZqs",
      "include_colab_link": true
    },
    "kernelspec": {
      "name": "python3",
      "display_name": "Python 3"
    },
    "language_info": {
      "name": "python"
    }
  },
  "cells": [
    {
      "cell_type": "markdown",
      "metadata": {
        "id": "view-in-github",
        "colab_type": "text"
      },
      "source": [
        "<a href=\"https://colab.research.google.com/github/RomanShvardak/repo/blob/mybranch/hw1.ipynb\" target=\"_parent\"><img src=\"https://colab.research.google.com/assets/colab-badge.svg\" alt=\"Open In Colab\"/></a>"
      ]
    },
    {
      "cell_type": "code",
      "metadata": {
        "id": "aQzTqkmxCCXa"
      },
      "source": [
        "import numpy as np\n",
        "my_sign = lambda x: (1, -1)[x<0]\n",
        "def my_check(X, y):\n",
        "    w=np.dot(y,X)/len(y)\n",
        "    print('weights:', w)\n",
        "    print('f predetermined:', y)\n",
        "    \n",
        "    r=np.array(list(map(my_sign, np.dot(X,w))))\n",
        "    print('f calculated:   ', r)\n",
        "    if (r==y).all():\n",
        "        return 'weights implement this function using the threshold neuron'\n",
        "    else:\n",
        "        return 'weights do not implement this function using the threshold neuron'"
      ],
      "execution_count": 1,
      "outputs": []
    },
    {
      "cell_type": "code",
      "metadata": {
        "colab": {
          "base_uri": "https://localhost:8080/"
        },
        "id": "jdqYyvqGClDa",
        "outputId": "669e6092-c1ba-4808-e242-d557581921b0"
      },
      "source": [
        "X1 = np.array([ [1,1,1,1],\n",
        "[1,1,1,-1],\n",
        "[1,1,-1,1],\n",
        "[1,1,-1,-1],\n",
        "[1,-1,1,1],\n",
        "[1,-1,1,-1],\n",
        "[1,-1,-1,1],\n",
        "[1,-1,-1,-1] ])\n",
        "y1=np.array([1,1,1,-1,1,1,-1,-1])\n",
        "print(my_check(X1,y1))"
      ],
      "execution_count": 2,
      "outputs": [
        {
          "output_type": "stream",
          "text": [
            "weights: [0.25 0.25 0.75 0.25]\n",
            "f predetermined: [ 1  1  1 -1  1  1 -1 -1]\n",
            "f calculated:    [ 1  1  1 -1  1  1 -1 -1]\n",
            "weights implement this function using the threshold neuron\n"
          ],
          "name": "stdout"
        },
        {
          "output_type": "stream",
          "text": [
            "/usr/local/lib/python3.7/dist-packages/ipykernel_launcher.py:2: DeprecationWarning: In future, it will be an error for 'np.bool_' scalars to be interpreted as an index\n",
            "  \n"
          ],
          "name": "stderr"
        }
      ]
    },
    {
      "cell_type": "code",
      "metadata": {
        "colab": {
          "base_uri": "https://localhost:8080/"
        },
        "id": "Adi7Cx_9DBVE",
        "outputId": "48032903-b384-40f9-b00b-663c2f74f75f"
      },
      "source": [
        "X2 = np.array([ [1,1,1,1],\n",
        "[1,1,1,-1],\n",
        "[1,1,-1,1],\n",
        "[1,1,-1,-1],\n",
        "[1,-1,1,1],\n",
        "[1,-1,1,-1],\n",
        "[1,-1,-1,1],\n",
        "[1,-1,-1,-1] ])\n",
        "y2=np.array([1,-1,-1,-1,1,-1,1,-1])\n",
        "print(my_check(X2,y2))"
      ],
      "execution_count": 3,
      "outputs": [
        {
          "output_type": "stream",
          "text": [
            "weights: [-0.25 -0.25  0.25  0.75]\n",
            "f predetermined: [ 1 -1 -1 -1  1 -1  1 -1]\n",
            "f calculated:    [ 1 -1  1 -1  1 -1  1 -1]\n",
            "weights do not implement this function using the threshold neuron\n"
          ],
          "name": "stdout"
        },
        {
          "output_type": "stream",
          "text": [
            "/usr/local/lib/python3.7/dist-packages/ipykernel_launcher.py:2: DeprecationWarning: In future, it will be an error for 'np.bool_' scalars to be interpreted as an index\n",
            "  \n"
          ],
          "name": "stderr"
        }
      ]
    }
  ]
}